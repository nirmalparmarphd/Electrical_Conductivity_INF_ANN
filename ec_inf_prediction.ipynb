{
 "cells": [
  {
   "cell_type": "markdown",
   "metadata": {},
   "source": [
    "# DNN Model"
   ]
  },
  {
   "cell_type": "code",
   "execution_count": 257,
   "metadata": {},
   "outputs": [],
   "source": [
    "import numpy as np\n",
    "import pandas as pd\n",
    "import tensorflow as tf"
   ]
  },
  {
   "cell_type": "code",
   "execution_count": 258,
   "metadata": {},
   "outputs": [],
   "source": [
    "# data loading from .npz generated from tcr_data_process.ipynb\n",
    "# loading train data\n",
    "npz = np.load('data_train.npz')\n",
    "train_inputs = npz['input'].astype(np.float64)\n",
    "train_targets = npz['targets'].astype(np.float64)\n",
    "# loading validation data\n",
    "npz = np.load('data_validation.npz')\n",
    "validation_inputs, validation_targets = npz['input'].astype(np.float64), npz['targets'].astype(np.float64)\n",
    "\n",
    "npz = np.load('data_test.npz')\n",
    "test_inputs, test_targets = npz['input'].astype(np.float64), npz['targets'].astype(np.float64)"
   ]
  },
  {
   "cell_type": "markdown",
   "metadata": {},
   "source": [
    "# ANN Model"
   ]
  },
  {
   "cell_type": "markdown",
   "metadata": {},
   "source": [
    "Outline, Optimizer, Loss function, Early stopping and Training rate"
   ]
  },
  {
   "cell_type": "code",
   "execution_count": 259,
   "metadata": {},
   "outputs": [],
   "source": [
    "# NN model prep\n",
    "input_size = 2\n",
    "output_size = 1\n",
    "hidden_layer_1_size = 6\n",
    "hidden_layer_2_size = 6\n",
    "hidden_layer_3_size = 6\n",
    "\n",
    "model = tf.keras.Sequential([\n",
    "    #tf.keras.layers.Dense(hidden_layer_2_size, activation='relu'),\n",
    "    tf.keras.layers.Dense(hidden_layer_3_size, activation='relu'),\n",
    "    tf.keras.layers.Dense(hidden_layer_3_size, activation='sigmoid'),\n",
    "    tf.keras.layers.Dense(output_size, activation='linear')\n",
    "])\n"
   ]
  },
  {
   "cell_type": "code",
   "execution_count": 260,
   "metadata": {},
   "outputs": [],
   "source": [
    "# model prep, optimizer and loss function\n",
    "optimizer = tf.keras.optimizers.Adam(learning_rate=0.01)\n",
    "model.compile(optimizer, loss=tf.keras.losses.MeanSquaredError(),metrics=[tf.keras.metrics.RootMeanSquaredError()])\n"
   ]
  },
  {
   "cell_type": "code",
   "execution_count": 261,
   "metadata": {},
   "outputs": [],
   "source": [
    "# Training\n",
    "BATCH_SIZE = 1\n",
    "MAX_EPOCHS = 1000\n",
    "early_stopping = tf.keras.callbacks.EarlyStopping(patience=2)"
   ]
  },
  {
   "cell_type": "code",
   "execution_count": 262,
   "metadata": {},
   "outputs": [
    {
     "name": "stdout",
     "output_type": "stream",
     "text": [
      "Epoch 1/1000\n",
      "91/91 - 4s - loss: 416.9242 - root_mean_squared_error: 20.4187 - val_loss: 342.6806 - val_root_mean_squared_error: 18.5116 - 4s/epoch - 44ms/step\n",
      "Epoch 2/1000\n",
      "91/91 - 0s - loss: 283.9704 - root_mean_squared_error: 16.8514 - val_loss: 223.7615 - val_root_mean_squared_error: 14.9587 - 445ms/epoch - 5ms/step\n",
      "Epoch 3/1000\n",
      "91/91 - 0s - loss: 179.9590 - root_mean_squared_error: 13.4149 - val_loss: 143.2538 - val_root_mean_squared_error: 11.9689 - 326ms/epoch - 4ms/step\n",
      "Epoch 4/1000\n",
      "91/91 - 1s - loss: 116.6718 - root_mean_squared_error: 10.8015 - val_loss: 102.7515 - val_root_mean_squared_error: 10.1366 - 655ms/epoch - 7ms/step\n",
      "Epoch 5/1000\n",
      "91/91 - 1s - loss: 80.6545 - root_mean_squared_error: 8.9808 - val_loss: 79.0594 - val_root_mean_squared_error: 8.8915 - 736ms/epoch - 8ms/step\n",
      "Epoch 6/1000\n",
      "91/91 - 0s - loss: 58.1278 - root_mean_squared_error: 7.6242 - val_loss: 64.8453 - val_root_mean_squared_error: 8.0527 - 384ms/epoch - 4ms/step\n",
      "Epoch 7/1000\n",
      "91/91 - 1s - loss: 44.1852 - root_mean_squared_error: 6.6472 - val_loss: 55.1203 - val_root_mean_squared_error: 7.4243 - 714ms/epoch - 8ms/step\n",
      "Epoch 8/1000\n",
      "91/91 - 0s - loss: 35.3834 - root_mean_squared_error: 5.9484 - val_loss: 48.8340 - val_root_mean_squared_error: 6.9881 - 399ms/epoch - 4ms/step\n",
      "Epoch 9/1000\n",
      "91/91 - 0s - loss: 29.3354 - root_mean_squared_error: 5.4162 - val_loss: 44.0896 - val_root_mean_squared_error: 6.6400 - 329ms/epoch - 4ms/step\n",
      "Epoch 10/1000\n",
      "91/91 - 0s - loss: 25.2469 - root_mean_squared_error: 5.0246 - val_loss: 40.3311 - val_root_mean_squared_error: 6.3507 - 340ms/epoch - 4ms/step\n",
      "Epoch 11/1000\n",
      "91/91 - 0s - loss: 22.2131 - root_mean_squared_error: 4.7131 - val_loss: 36.6628 - val_root_mean_squared_error: 6.0550 - 278ms/epoch - 3ms/step\n",
      "Epoch 12/1000\n",
      "91/91 - 0s - loss: 19.9222 - root_mean_squared_error: 4.4634 - val_loss: 34.1347 - val_root_mean_squared_error: 5.8425 - 307ms/epoch - 3ms/step\n",
      "Epoch 13/1000\n",
      "91/91 - 0s - loss: 18.2175 - root_mean_squared_error: 4.2682 - val_loss: 30.7328 - val_root_mean_squared_error: 5.5437 - 435ms/epoch - 5ms/step\n",
      "Epoch 14/1000\n",
      "91/91 - 1s - loss: 16.4671 - root_mean_squared_error: 4.0580 - val_loss: 29.4709 - val_root_mean_squared_error: 5.4287 - 691ms/epoch - 8ms/step\n",
      "Epoch 15/1000\n",
      "91/91 - 0s - loss: 15.2182 - root_mean_squared_error: 3.9011 - val_loss: 26.4441 - val_root_mean_squared_error: 5.1424 - 480ms/epoch - 5ms/step\n",
      "Epoch 16/1000\n",
      "91/91 - 0s - loss: 14.0552 - root_mean_squared_error: 3.7490 - val_loss: 23.9303 - val_root_mean_squared_error: 4.8919 - 259ms/epoch - 3ms/step\n",
      "Epoch 17/1000\n",
      "91/91 - 0s - loss: 13.0314 - root_mean_squared_error: 3.6099 - val_loss: 21.7741 - val_root_mean_squared_error: 4.6663 - 288ms/epoch - 3ms/step\n",
      "Epoch 18/1000\n",
      "91/91 - 0s - loss: 12.1894 - root_mean_squared_error: 3.4913 - val_loss: 20.4953 - val_root_mean_squared_error: 4.5272 - 285ms/epoch - 3ms/step\n",
      "Epoch 19/1000\n",
      "91/91 - 0s - loss: 11.3508 - root_mean_squared_error: 3.3691 - val_loss: 18.6124 - val_root_mean_squared_error: 4.3142 - 243ms/epoch - 3ms/step\n",
      "Epoch 20/1000\n",
      "91/91 - 0s - loss: 10.7751 - root_mean_squared_error: 3.2825 - val_loss: 17.8082 - val_root_mean_squared_error: 4.2200 - 304ms/epoch - 3ms/step\n",
      "Epoch 21/1000\n",
      "91/91 - 0s - loss: 10.1699 - root_mean_squared_error: 3.1890 - val_loss: 16.5610 - val_root_mean_squared_error: 4.0695 - 261ms/epoch - 3ms/step\n",
      "Epoch 22/1000\n",
      "91/91 - 0s - loss: 9.4891 - root_mean_squared_error: 3.0804 - val_loss: 16.0209 - val_root_mean_squared_error: 4.0026 - 242ms/epoch - 3ms/step\n",
      "Epoch 23/1000\n",
      "91/91 - 0s - loss: 9.1571 - root_mean_squared_error: 3.0261 - val_loss: 15.0977 - val_root_mean_squared_error: 3.8856 - 298ms/epoch - 3ms/step\n",
      "Epoch 24/1000\n",
      "91/91 - 0s - loss: 8.5339 - root_mean_squared_error: 2.9213 - val_loss: 14.6979 - val_root_mean_squared_error: 3.8338 - 268ms/epoch - 3ms/step\n",
      "Epoch 25/1000\n",
      "91/91 - 0s - loss: 8.2087 - root_mean_squared_error: 2.8651 - val_loss: 13.3913 - val_root_mean_squared_error: 3.6594 - 251ms/epoch - 3ms/step\n",
      "Epoch 26/1000\n",
      "91/91 - 0s - loss: 7.7916 - root_mean_squared_error: 2.7913 - val_loss: 13.4527 - val_root_mean_squared_error: 3.6678 - 247ms/epoch - 3ms/step\n",
      "Epoch 27/1000\n",
      "91/91 - 0s - loss: 7.4086 - root_mean_squared_error: 2.7219 - val_loss: 12.4746 - val_root_mean_squared_error: 3.5319 - 270ms/epoch - 3ms/step\n",
      "Epoch 28/1000\n",
      "91/91 - 0s - loss: 6.9616 - root_mean_squared_error: 2.6385 - val_loss: 12.0044 - val_root_mean_squared_error: 3.4647 - 282ms/epoch - 3ms/step\n",
      "Epoch 29/1000\n",
      "91/91 - 0s - loss: 6.6769 - root_mean_squared_error: 2.5840 - val_loss: 11.5773 - val_root_mean_squared_error: 3.4025 - 346ms/epoch - 4ms/step\n",
      "Epoch 30/1000\n",
      "91/91 - 0s - loss: 6.3549 - root_mean_squared_error: 2.5209 - val_loss: 11.1438 - val_root_mean_squared_error: 3.3382 - 253ms/epoch - 3ms/step\n",
      "Epoch 31/1000\n",
      "91/91 - 0s - loss: 6.1007 - root_mean_squared_error: 2.4700 - val_loss: 11.1645 - val_root_mean_squared_error: 3.3413 - 404ms/epoch - 4ms/step\n",
      "Epoch 32/1000\n",
      "91/91 - 0s - loss: 5.7496 - root_mean_squared_error: 2.3978 - val_loss: 10.1503 - val_root_mean_squared_error: 3.1860 - 357ms/epoch - 4ms/step\n",
      "Epoch 33/1000\n",
      "91/91 - 0s - loss: 5.6670 - root_mean_squared_error: 2.3806 - val_loss: 9.7744 - val_root_mean_squared_error: 3.1264 - 395ms/epoch - 4ms/step\n",
      "Epoch 34/1000\n",
      "91/91 - 0s - loss: 5.3944 - root_mean_squared_error: 2.3226 - val_loss: 9.0686 - val_root_mean_squared_error: 3.0114 - 285ms/epoch - 3ms/step\n",
      "Epoch 35/1000\n",
      "91/91 - 0s - loss: 5.1447 - root_mean_squared_error: 2.2682 - val_loss: 9.2084 - val_root_mean_squared_error: 3.0345 - 322ms/epoch - 4ms/step\n",
      "Epoch 36/1000\n",
      "91/91 - 0s - loss: 4.9201 - root_mean_squared_error: 2.2181 - val_loss: 8.8483 - val_root_mean_squared_error: 2.9746 - 245ms/epoch - 3ms/step\n",
      "Epoch 37/1000\n",
      "91/91 - 0s - loss: 4.7964 - root_mean_squared_error: 2.1901 - val_loss: 9.0373 - val_root_mean_squared_error: 3.0062 - 391ms/epoch - 4ms/step\n",
      "Epoch 38/1000\n",
      "91/91 - 0s - loss: 4.6146 - root_mean_squared_error: 2.1482 - val_loss: 8.3882 - val_root_mean_squared_error: 2.8962 - 336ms/epoch - 4ms/step\n",
      "Epoch 39/1000\n",
      "91/91 - 0s - loss: 4.3277 - root_mean_squared_error: 2.0803 - val_loss: 7.6912 - val_root_mean_squared_error: 2.7733 - 248ms/epoch - 3ms/step\n",
      "Epoch 40/1000\n",
      "91/91 - 0s - loss: 4.3584 - root_mean_squared_error: 2.0877 - val_loss: 7.4056 - val_root_mean_squared_error: 2.7213 - 232ms/epoch - 3ms/step\n",
      "Epoch 41/1000\n",
      "91/91 - 0s - loss: 4.1113 - root_mean_squared_error: 2.0276 - val_loss: 7.4329 - val_root_mean_squared_error: 2.7263 - 310ms/epoch - 3ms/step\n",
      "Epoch 42/1000\n",
      "91/91 - 0s - loss: 3.9659 - root_mean_squared_error: 1.9915 - val_loss: 6.7785 - val_root_mean_squared_error: 2.6036 - 261ms/epoch - 3ms/step\n",
      "Epoch 43/1000\n",
      "91/91 - 0s - loss: 3.8736 - root_mean_squared_error: 1.9682 - val_loss: 6.6826 - val_root_mean_squared_error: 2.5851 - 274ms/epoch - 3ms/step\n",
      "Epoch 44/1000\n",
      "91/91 - 0s - loss: 3.7579 - root_mean_squared_error: 1.9385 - val_loss: 6.4123 - val_root_mean_squared_error: 2.5322 - 261ms/epoch - 3ms/step\n",
      "Epoch 45/1000\n",
      "91/91 - 0s - loss: 3.6366 - root_mean_squared_error: 1.9070 - val_loss: 6.5955 - val_root_mean_squared_error: 2.5682 - 251ms/epoch - 3ms/step\n",
      "Epoch 46/1000\n",
      "91/91 - 0s - loss: 3.8277 - root_mean_squared_error: 1.9564 - val_loss: 5.8789 - val_root_mean_squared_error: 2.4247 - 233ms/epoch - 3ms/step\n",
      "Epoch 47/1000\n",
      "91/91 - 0s - loss: 3.4685 - root_mean_squared_error: 1.8624 - val_loss: 5.8946 - val_root_mean_squared_error: 2.4279 - 241ms/epoch - 3ms/step\n",
      "Epoch 48/1000\n",
      "91/91 - 0s - loss: 3.5874 - root_mean_squared_error: 1.8941 - val_loss: 6.0091 - val_root_mean_squared_error: 2.4513 - 279ms/epoch - 3ms/step\n"
     ]
    }
   ],
   "source": [
    "# fit the model\n",
    "history = model.fit(\n",
    "    train_inputs, train_targets, batch_size=BATCH_SIZE,epochs=MAX_EPOCHS, callbacks=[early_stopping], validation_data=(validation_inputs, validation_targets), verbose=2\n",
    "          )"
   ]
  },
  {
   "cell_type": "code",
   "execution_count": 263,
   "metadata": {},
   "outputs": [
    {
     "name": "stdout",
     "output_type": "stream",
     "text": [
      "Model: \"sequential_16\"\n",
      "_________________________________________________________________\n",
      " Layer (type)                Output Shape              Param #   \n",
      "=================================================================\n",
      " dense_64 (Dense)            (1, 6)                    18        \n",
      "                                                                 \n",
      " dense_65 (Dense)            (1, 1)                    7         \n",
      "                                                                 \n",
      "=================================================================\n",
      "Total params: 25\n",
      "Trainable params: 25\n",
      "Non-trainable params: 0\n",
      "_________________________________________________________________\n"
     ]
    }
   ],
   "source": [
    "# ANN model summary\n",
    "model.summary()"
   ]
  },
  {
   "cell_type": "code",
   "execution_count": 264,
   "metadata": {},
   "outputs": [
    {
     "data": {
      "image/png": "[encoded data removed]",
      "text/plain": [
       "<Figure size 640x480 with 1 Axes>"
      ]
     },
     "metadata": {},
     "output_type": "display_data"
    }
   ],
   "source": [
    "import matplotlib.pyplot as plt\n",
    "plt.plot(history.history['loss'], label='Training_loss')\n",
    "plt.plot(history.history['val_loss'], label='Validation_loss')\n",
    "plt.xlabel('epochs')\n",
    "plt.ylabel('loss')\n",
    "plt.legend()\n",
    "plt.show()"
   ]
  },
  {
   "cell_type": "markdown",
   "metadata": {},
   "source": [
    "# Model check on Test data"
   ]
  },
  {
   "cell_type": "code",
   "execution_count": 265,
   "metadata": {},
   "outputs": [
    {
     "name": "stdout",
     "output_type": "stream",
     "text": [
      "1/1 [==============================] - 1s 928ms/step - loss: 3.5474 - root_mean_squared_error: 1.8835\n"
     ]
    }
   ],
   "source": [
    "test_loss, test_accuracy = model.evaluate(test_inputs, test_targets)"
   ]
  },
  {
   "cell_type": "code",
   "execution_count": 266,
   "metadata": {},
   "outputs": [
    {
     "name": "stdout",
     "output_type": "stream",
     "text": [
      "\n",
      "Test loss: 3.5474. Test accuracy: 1.8835 rmse\n"
     ]
    }
   ],
   "source": [
    "print('\\nTest loss: {0:.4f}. Test accuracy: {1:.4f} rmse'.format(test_loss, test_accuracy))"
   ]
  },
  {
   "cell_type": "code",
   "execution_count": 267,
   "metadata": {},
   "outputs": [
    {
     "name": "stdout",
     "output_type": "stream",
     "text": [
      "1/1 [==============================] - 0s 254ms/step\n"
     ]
    },
    {
     "data": {
      "text/html": [
       "<div>\n",
       "<style scoped>\n",
       "    .dataframe tbody tr th:only-of-type {\n",
       "        vertical-align: middle;\n",
       "    }\n",
       "\n",
       "    .dataframe tbody tr th {\n",
       "        vertical-align: top;\n",
       "    }\n",
       "\n",
       "    .dataframe thead th {\n",
       "        text-align: right;\n",
       "    }\n",
       "</style>\n",
       "<table border=\"1\" class=\"dataframe\">\n",
       "  <thead>\n",
       "    <tr style=\"text-align: right;\">\n",
       "      <th></th>\n",
       "      <th>Target-St(%)</th>\n",
       "      <th>Prediction-St(%)</th>\n",
       "      <th>Pred-Accu-St(%)</th>\n",
       "    </tr>\n",
       "  </thead>\n",
       "  <tbody>\n",
       "    <tr>\n",
       "      <th>0</th>\n",
       "      <td>2.33</td>\n",
       "      <td>4.673400</td>\n",
       "      <td>200.58</td>\n",
       "    </tr>\n",
       "    <tr>\n",
       "      <th>1</th>\n",
       "      <td>32.70</td>\n",
       "      <td>30.244499</td>\n",
       "      <td>92.49</td>\n",
       "    </tr>\n",
       "    <tr>\n",
       "      <th>2</th>\n",
       "      <td>19.66</td>\n",
       "      <td>19.904100</td>\n",
       "      <td>101.24</td>\n",
       "    </tr>\n",
       "    <tr>\n",
       "      <th>3</th>\n",
       "      <td>14.67</td>\n",
       "      <td>14.655700</td>\n",
       "      <td>99.90</td>\n",
       "    </tr>\n",
       "    <tr>\n",
       "      <th>4</th>\n",
       "      <td>18.23</td>\n",
       "      <td>17.778999</td>\n",
       "      <td>97.53</td>\n",
       "    </tr>\n",
       "    <tr>\n",
       "      <th>5</th>\n",
       "      <td>31.82</td>\n",
       "      <td>31.308399</td>\n",
       "      <td>98.39</td>\n",
       "    </tr>\n",
       "    <tr>\n",
       "      <th>6</th>\n",
       "      <td>18.49</td>\n",
       "      <td>17.201900</td>\n",
       "      <td>93.03</td>\n",
       "    </tr>\n",
       "    <tr>\n",
       "      <th>7</th>\n",
       "      <td>20.76</td>\n",
       "      <td>19.276899</td>\n",
       "      <td>92.86</td>\n",
       "    </tr>\n",
       "    <tr>\n",
       "      <th>8</th>\n",
       "      <td>16.53</td>\n",
       "      <td>15.066300</td>\n",
       "      <td>91.15</td>\n",
       "    </tr>\n",
       "    <tr>\n",
       "      <th>9</th>\n",
       "      <td>14.69</td>\n",
       "      <td>13.161800</td>\n",
       "      <td>89.60</td>\n",
       "    </tr>\n",
       "    <tr>\n",
       "      <th>10</th>\n",
       "      <td>32.21</td>\n",
       "      <td>36.527401</td>\n",
       "      <td>113.40</td>\n",
       "    </tr>\n",
       "  </tbody>\n",
       "</table>\n",
       "</div>"
      ],
      "text/plain": [
       "    Target-St(%)  Prediction-St(%)  Pred-Accu-St(%)\n",
       "0           2.33          4.673400           200.58\n",
       "1          32.70         30.244499            92.49\n",
       "2          19.66         19.904100           101.24\n",
       "3          14.67         14.655700            99.90\n",
       "4          18.23         17.778999            97.53\n",
       "5          31.82         31.308399            98.39\n",
       "6          18.49         17.201900            93.03\n",
       "7          20.76         19.276899            92.86\n",
       "8          16.53         15.066300            91.15\n",
       "9          14.69         13.161800            89.60\n",
       "10         32.21         36.527401           113.40"
      ]
     },
     "execution_count": 267,
     "metadata": {},
     "output_type": "execute_result"
    }
   ],
   "source": [
    "prediction = model.predict(test_inputs)\n",
    "data_inputs = pd.DataFrame(test_inputs)\n",
    "prediction = pd.DataFrame(np.round(prediction,4))\n",
    "test_targets = pd.DataFrame(test_targets)\n",
    "pred_accu = np.round((prediction/test_targets)*100,2)\n",
    "\n",
    "result = pd.concat([test_targets, prediction, pred_accu], axis = 1, ignore_index=True)\n",
    "result.columns = ['Target-St(%)', 'Prediction-St(%)','Pred-Accu-St(%)']\n",
    "result"
   ]
  },
  {
   "cell_type": "code",
   "execution_count": 268,
   "metadata": {},
   "outputs": [
    {
     "data": {
      "text/plain": [
       "Text(0.5, 0, 'Targets (red) & Predictions (blue)')"
      ]
     },
     "execution_count": 268,
     "metadata": {},
     "output_type": "execute_result"
    },
    {
     "data": {
      "image/png": "[encoded data removed]",
      "text/plain": [
       "<Figure size 640x480 with 1 Axes>"
      ]
     },
     "metadata": {},
     "output_type": "display_data"
    }
   ],
   "source": [
    "import matplotlib.pyplot as plt\n",
    "plt.scatter(result['Target-St(%)'], result['Pred-Accu-St(%)'], alpha=0.5, color='r')\n",
    "plt.scatter(result['Prediction-St(%)'], result['Pred-Accu-St(%)'],alpha=0.5, color='b')\n",
    "plt.ylabel('Error in the prediction(%)')\n",
    "plt.xlabel('Targets (red) & Predictions (blue)')"
   ]
  },
  {
   "cell_type": "code",
   "execution_count": 269,
   "metadata": {},
   "outputs": [
    {
     "data": {
      "text/plain": [
       "Text(0.5, 0, 'Targets')"
      ]
     },
     "execution_count": 269,
     "metadata": {},
     "output_type": "execute_result"
    },
    {
     "data": {
      "image/png": "[encoded data removed]",
      "text/plain": [
       "<Figure size 640x480 with 1 Axes>"
      ]
     },
     "metadata": {},
     "output_type": "display_data"
    }
   ],
   "source": [
    "plt.scatter(result['Target-St(%)'], result['Target-St(%)'], alpha=0.5, color='r')\n",
    "plt.scatter(result['Target-St(%)'], result['Prediction-St(%)'], alpha=0.2, color='g')\n",
    "\n",
    "plt.ylabel('predictions')\n",
    "plt.xlabel('Targets')"
   ]
  },
  {
   "cell_type": "code",
   "execution_count": 270,
   "metadata": {},
   "outputs": [
    {
     "data": {
      "text/plain": [
       "0.9534"
      ]
     },
     "execution_count": 270,
     "metadata": {},
     "output_type": "execute_result"
    }
   ],
   "source": [
    "# estimation of R2 score\n",
    "from sklearn.metrics import r2_score\n",
    "r2_score_test = r2_score(test_targets, prediction)\n",
    "np.round(r2_score_test,4)"
   ]
  },
  {
   "cell_type": "code",
   "execution_count": 271,
   "metadata": {},
   "outputs": [
    {
     "data": {
      "text/plain": [
       "0.9334"
      ]
     },
     "execution_count": 271,
     "metadata": {},
     "output_type": "execute_result"
    }
   ],
   "source": [
    "# estimation of adjusted R2 score\n",
    "n = np.size(test_targets)\n",
    "k = 3 # number of features\n",
    "adj_r2_score = 1 - (((1-r2_score_test)*(n-1))/((n-k-1)))\n",
    "np.round(adj_r2_score,4)"
   ]
  },
  {
   "cell_type": "code",
   "execution_count": 272,
   "metadata": {},
   "outputs": [
    {
     "name": "stdout",
     "output_type": "stream",
     "text": [
      "Uncertainty of the ANN model: 31.94 [%]\n",
      "Average test prediction precision 68.06 [%]\n"
     ]
    }
   ],
   "source": [
    "mean_pred = pred_accu.mean()\n",
    "std_pred = pred_accu.std()\n",
    "uncertainty_model = std_pred\n",
    "print(\"Uncertainty of the ANN model:\", np.round(uncertainty_model[0],2), '[%]')\n",
    "print(\"Average test prediction precision\", np.round(100 - uncertainty_model[0],2), '[%]')"
   ]
  },
  {
   "cell_type": "markdown",
   "metadata": {},
   "source": [
    "# ANN Model Deployment"
   ]
  },
  {
   "cell_type": "markdown",
   "metadata": {},
   "source": [
    "ANN model deployment for micro DSC error prediction"
   ]
  },
  {
   "cell_type": "code",
   "execution_count": 273,
   "metadata": {},
   "outputs": [],
   "source": [
    "import keras\n",
    "model.save('ec_pred_ann.h5')"
   ]
  },
  {
   "cell_type": "code",
   "execution_count": null,
   "metadata": {},
   "outputs": [],
   "source": []
  }
 ],
 "metadata": {
  "kernelspec": {
   "display_name": ".venv",
   "language": "python",
   "name": "python3"
  },
  "language_info": {
   "codemirror_mode": {
    "name": "ipython",
    "version": 3
   },
   "file_extension": ".py",
   "mimetype": "text/x-python",
   "name": "python",
   "nbconvert_exporter": "python",
   "pygments_lexer": "ipython3",
   "version": "3.8.9"
  },
  "orig_nbformat": 4,
  "vscode": {
   "interpreter": {
    "hash": "733cc1fb923cfd709c8863b3f5952b44515f13a1b04f39cd1639362fcf378794"
   }
  }
 },
 "nbformat": 4,
 "nbformat_minor": 2
}
